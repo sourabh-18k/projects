{
 "cells": [
  {
   "cell_type": "markdown",
   "metadata": {},
   "source": [
    "Problem Statement: 1\n",
    "You work in XYZ Corporation as a Data Analyst. Your company has told you to work with the IfElse Conditions.\n",
    "Tasks to be performed:\n",
    "1. Input the values of a and b as 10 and 20 respectively. Now check if a is greater or b is greater\n",
    "using if condition. Think about all the edge cases, and print the statements accordingly."
   ]
  },
  {
   "cell_type": "code",
   "execution_count": null,
   "metadata": {},
   "outputs": [],
   "source": [
    "a = int(input(\"enter number 1 :\"))\n",
    "b = int(input(\"enter number 2 :\"))\n",
    "if a > b:\n",
    "    print(a ,\"is greater than\",b)\n",
    "else:\n",
    "    print(b ,\"is greater than\",a)"
   ]
  },
  {
   "cell_type": "markdown",
   "metadata": {},
   "source": [
    "Problem Statement: 2 You work in XYZ Corporation as a Data Analyst. Your company has told you to work with the IfElse Conditions. Tasks to be performed:\n",
    "\n",
    "Take three user inputs and print the greatest number from those inputs using if-else condition. Edge cases if any, should also be handled."
   ]
  },
  {
   "cell_type": "code",
   "execution_count": null,
   "metadata": {},
   "outputs": [],
   "source": [
    "x = int(input(\"enter the first number:\"))\n",
    "y = int(input(\"enter the second number:\"))\n",
    "z = int(input(\"enter the third number:\"))\n",
    "\n",
    "if x > y and x > z:\n",
    "    print(x ,\"is the greatest number\")\n",
    "elif y > x and y > z:\n",
    "    print(y ,\"is the greatest number\")\n",
    "else :\n",
    "    print(z ,\"is the greatest number\")"
   ]
  },
  {
   "cell_type": "markdown",
   "metadata": {},
   "source": [
    "Problem Statement: 3 You work in XYZ Corporation as a Data Analyst. Your company has told you to work with the IfElse Conditions. Tasks to be performed:\n",
    "\n",
    "Print the numbers from 1 to 10 using while loop."
   ]
  },
  {
   "cell_type": "code",
   "execution_count": null,
   "metadata": {},
   "outputs": [],
   "source": [
    "x = 1\n",
    "while x<=10:\n",
    "    print(x)\n",
    "    x = x + 1"
   ]
  },
  {
   "cell_type": "markdown",
   "metadata": {},
   "source": [
    "Problem Statement: 4 You work in XYZ Corporation as a Data Analyst. Your company has told you to work with the IfElse Conditions. Tasks to be performed: Create a list that is having 10,23,4,26,4,75,24,54 values and with the help of while loop, fetch the even numbers and print the numbers."
   ]
  },
  {
   "cell_type": "code",
   "execution_count": null,
   "metadata": {},
   "outputs": [],
   "source": [
    "list1 = [10,23,4,26,4,75,24,54]\n",
    "\n",
    "a = 0\n",
    "while (a < len(list1)):\n",
    "    if list1[a] % 2 == 0:\n",
    "        print(list1[a],end=\" \")\n",
    "    a += 1"
   ]
  },
  {
   "cell_type": "markdown",
   "metadata": {},
   "source": [
    "Problem Statement: 5\n",
    "Consider yourself to be Sam who is a data scientist. He has been invited as a guest lecturer at a college\n",
    "to take an introductory session on Python.\n",
    "Tasks to be performed:\n",
    "1. Create a list containing squares of numbers from 1 to 10 (HINT: use List Comprehension).\n",
    "2. Write a Function to check if year number is a leap year.\n",
    "3. Write a Function to take an array and return another array that contains the members of first\n",
    "array that are even.\n",
    "4. Write a Function that takes 2 arrays and prints the members of first array that are present of\n",
    "second array. (HINT: use Membership Comprehension)\n",
    "\n"
   ]
  },
  {
   "cell_type": "code",
   "execution_count": null,
   "metadata": {},
   "outputs": [],
   "source": [
    "# 1\n",
    "list = []\n",
    "for i in range(1, 11):\n",
    "    list.append(i*i)\n",
    "print(list)\n",
    "\n",
    "#2\n",
    "year = int(input(\"enter year :\"))\n",
    "if year%4 == 0 and year%100 != 0 or year%400 == 0:\n",
    "    print(year ,\"is a leap year\")\n",
    "else:\n",
    "    print(year,\" is not a leap year\")"
   ]
  },
  {
   "cell_type": "code",
   "execution_count": null,
   "metadata": {},
   "outputs": [],
   "source": [
    "#3\n",
    "a = [1, 2, 3, 4, 5, 6]\n",
    "\n",
    "def even(a):\n",
    "    new_array = []\n",
    "    for i in a:\n",
    "        if i % 2 == 0:\n",
    "            new_array.append(i)\n",
    "    return new_array\n",
    "print(even(a))\n",
    "\n",
    "#4\n",
    "def array():\n",
    "    array1=list(input(\"Enter array1: \"))\n",
    "    array2=list(input(\"Enter array2: \"))\n",
    "    \n",
    "    for i in array1:\n",
    "        for j in array2:\n",
    "            if i==j:\n",
    "                print(i)\n",
    "\n",
    "array()"
   ]
  },
  {
   "cell_type": "code",
   "execution_count": 2,
   "metadata": {},
   "outputs": [
    {
     "ename": "SyntaxError",
     "evalue": "invalid syntax (Temp/ipykernel_6132/531814179.py, line 1)",
     "output_type": "error",
     "traceback": [
      "\u001b[1;36m  File \u001b[1;32m\"C:\\Users\\Abhishek\\AppData\\Local\\Temp/ipykernel_6132/531814179.py\"\u001b[1;36m, line \u001b[1;32m1\u001b[0m\n\u001b[1;33m    Problem Statement: 6\u001b[0m\n\u001b[1;37m            ^\u001b[0m\n\u001b[1;31mSyntaxError\u001b[0m\u001b[1;31m:\u001b[0m invalid syntax\n"
     ]
    }
   ],
   "source": [
    "Problem Statement: 6\n",
    "Consider yourself to be Sam who is a data scientist. He has been invited as a guest lecturer at a college\n",
    "to take an introductory session on Python.\n",
    "Tasks to be performed:\n",
    "1. Create 1st tuple with values -> (10,20,30), 2nd tuple with values -> (40,50,60).\n",
    "a. Concatenate the two tuples and store it in “t_combine”\n",
    "b. Repeat the elements of “t_combine” 3 times\n",
    "c. Access the 3rd element from “t_combine”\n",
    "d. Access the first three elements from “t_combine”\n",
    "e. Access the last three elements from “t_combine”\n",
    "2. Create a list ‘my_list’ with these elements:\n",
    "a. First element is a tuple with values 1,2,3\n",
    "b. Second element is a tuple with values “a”,”b”,”c”\n",
    "c. Third element is a tuple with values True,False\n",
    "3. Append a new tuple – (1,’a’,True) to ‘my_list’\n",
    "a. Append a new list – *“sparta”,123+ to my_list\n",
    "4. Create a dictionary ‘fruit’ where:\n",
    "a. The first key is ‘Fruit’ and the values are (“Apple”,”Banana”,”Mango”,”Guava”)\n",
    "b. The second key is ‘Cost’ and the values are (85,54,120,70)\n",
    "c. Extract all the keys from ‘fruit’\n",
    "d. Extract all the values from ‘fruit’\n",
    "5. Crete a set named ‘my_set’ with values (1,1,”a”,”a”,True,True) and print the result"
   ]
  },
  {
   "cell_type": "code",
   "execution_count": 3,
   "metadata": {},
   "outputs": [],
   "source": [
    "#1. Create 1st tuple with values -> (10,20,30), 2nd tuple with values -> (40,50,60).\n",
    "\n",
    "tuple1=(10,20,30)\n",
    "tuple2=(40,50,60)\n"
   ]
  },
  {
   "cell_type": "code",
   "execution_count": 4,
   "metadata": {},
   "outputs": [],
   "source": [
    "#a. Concatenate the two tuples and store it in “t_combine”\n",
    "t_combine = tuple1 + tuple2  \n",
    "print(t_combine)\n",
    "\n"
   ]
  },
  {
   "cell_type": "code",
   "execution_count": 5,
   "metadata": {},
   "outputs": [],
   "source": [
    "#b. Repeat the elements of “t_combine” 3 times\n",
    "print(t_combine*3)\n",
    "\n"
   ]
  },
  {
   "cell_type": "code",
   "execution_count": 6,
   "metadata": {},
   "outputs": [],
   "source": [
    "#c. Access the 3rd element from “t_combine”\n",
    "\n",
    "print(t_combine[2])\n"
   ]
  },
  {
   "cell_type": "code",
   "execution_count": 7,
   "metadata": {},
   "outputs": [],
   "source": [
    "#d. Access the first three elements from “t_combine”\n",
    "print(t_combine[0:3])\n",
    "\n"
   ]
  },
  {
   "cell_type": "code",
   "execution_count": 8,
   "metadata": {},
   "outputs": [],
   "source": [
    "#e. Access the last three elements from “t_combine”\n",
    "\n",
    "print(t_combine[3:6])\n"
   ]
  },
  {
   "cell_type": "code",
   "execution_count": 9,
   "metadata": {},
   "outputs": [],
   "source": [
    "#2. Create a list ‘my_list’ with these elements:\n",
    "my_list=[]\n",
    "\n"
   ]
  },
  {
   "cell_type": "code",
   "execution_count": 10,
   "metadata": {},
   "outputs": [],
   "source": [
    "#a. First element is a tuple with values 1,2,3\n",
    "my_list=[(1,2,3)]\n",
    "\n"
   ]
  },
  {
   "cell_type": "code",
   "execution_count": 11,
   "metadata": {},
   "outputs": [],
   "source": [
    "#b. Second element is a tuple with values “a”,”b”,”c”\n",
    "my_list=[(1,2,3),(\"a\",\"b\",\"c\")]\n",
    "\n"
   ]
  },
  {
   "cell_type": "code",
   "execution_count": 12,
   "metadata": {},
   "outputs": [],
   "source": [
    "#c. Third element is a tuple with values True,False\n",
    "my_list=[(1,2,3),(\"a\",\"b\",\"c\"),(True,False)]\n",
    "\n"
   ]
  },
  {
   "cell_type": "code",
   "execution_count": 13,
   "metadata": {},
   "outputs": [],
   "source": [
    "#3. Append a new tuple – (1,’a’,True) to ‘my_list’\n",
    "my_list=[(1,2,3),(\"a\",\"b\",\"c\"),(True,False)]\n",
    "new_tuple = (1,\"a\",True)\n",
    "my_list.append((new_tuple))\n",
    "print(my_list)\n",
    "\n"
   ]
  },
  {
   "cell_type": "code",
   "execution_count": 14,
   "metadata": {},
   "outputs": [],
   "source": [
    "#a. Append a new list – *“sparta”,123+ to my_list\n",
    "new_list =[\"*sparta\",\"123+\"]\n",
    "my_list.append(new_list)\n",
    "print(my_list)\n",
    "\n"
   ]
  },
  {
   "cell_type": "code",
   "execution_count": 15,
   "metadata": {},
   "outputs": [],
   "source": [
    "#4. Create a dictionary ‘fruit’ where:\n",
    "fruit={}\n",
    "\n"
   ]
  },
  {
   "cell_type": "code",
   "execution_count": 16,
   "metadata": {},
   "outputs": [],
   "source": [
    "#a. The first key is ‘Fruit’ and the values are (“Apple”,”Banana”,”Mango”,”Guava”)\n",
    "fruit={\"Fruit\":(\"Apple\",\"Banana\",\"Mango\",\"Guava\")}\n",
    "\n"
   ]
  },
  {
   "cell_type": "code",
   "execution_count": 17,
   "metadata": {},
   "outputs": [],
   "source": [
    "#b. The second key is ‘Cost’ and the values are (85,54,120,70)\n",
    "fruit={\"Fruit\":(\"Apple\",\"Banana\",\"Mango\",\"Guava\"),\"Cost\":(85,54,120,70)}\n",
    "\n"
   ]
  },
  {
   "cell_type": "code",
   "execution_count": 18,
   "metadata": {},
   "outputs": [],
   "source": [
    "#c. Extract all the keys from ‘fruit’\n",
    "print(fruit.key())\n",
    "\n"
   ]
  },
  {
   "cell_type": "code",
   "execution_count": 19,
   "metadata": {},
   "outputs": [],
   "source": [
    "#d. Extract all the values from ‘fruit’\n",
    "print(fruit.values())\n",
    "\n"
   ]
  },
  {
   "cell_type": "code",
   "execution_count": 20,
   "metadata": {},
   "outputs": [],
   "source": [
    "#5. Crete a set named ‘my_set’ with values (1,1,”a”,”a”,True,True) and print the result\n",
    "my_set={1,1,'a','a',True,True}\n",
    "print(my_set)\n",
    "\n"
   ]
  },
  {
   "cell_type": "markdown",
   "metadata": {},
   "source": [
    "Problem Statement: 7\n",
    "\n",
    "L is a list defined as L= [11, 12, 13, 14].\n",
    "(i)\t    WAP to add 50 and 60 to L. \n",
    "(ii)\tWAP to remove 11 and 13from L.\n",
    "(iii)\tWAP to sort L in ascending order.\n",
    "(iv)\tWAP to sort L in descending order.\n",
    "(v)\t    WAP to search for 13 in L.\n",
    "(vi)\tWAP to count the number of elements present in L.\n",
    "(vii)\tWAP to sum all the elements in L.\n",
    "(viii)\tWAP to sum all ODD numbers in L.\n",
    "(ix)\tWAP to sum all EVEN numbers in L.\n",
    "(x)\t    WAP to sum all PRIME numbers in L.\n",
    "(xi)\tWAP to clear all the elements in L.\n",
    "(xii)\tWAP to delete L.\n"
   ]
  },
  {
   "cell_type": "code",
   "execution_count": 21,
   "metadata": {},
   "outputs": [],
   "source": [
    "#(i)\t    WAP to add 50 and 60 to L. \n",
    "L=[11,12,13,14]\n",
    "l=[50,60]\n",
    "L.extend(l)\n",
    "print(L)\n",
    "\n"
   ]
  },
  {
   "cell_type": "code",
   "execution_count": 22,
   "metadata": {},
   "outputs": [],
   "source": [
    "#(ii)\tWAP to remove 11 and 13from L.\n",
    "L.remove(11)\n",
    "L.remove(13)\n",
    "print(L)\n",
    "\n"
   ]
  },
  {
   "cell_type": "code",
   "execution_count": 23,
   "metadata": {},
   "outputs": [],
   "source": [
    "#(iii)\tWAP to sort L in ascending order.\n",
    "L.sort()\n",
    "print(L)\n",
    "\n",
    "\n"
   ]
  },
  {
   "cell_type": "code",
   "execution_count": 24,
   "metadata": {},
   "outputs": [],
   "source": [
    "#(iv)\tWAP to sort L in descending order.\n",
    "L.sort(reverse= True)\n",
    "print(L)\n",
    "\n",
    "\n"
   ]
  },
  {
   "cell_type": "code",
   "execution_count": 25,
   "metadata": {},
   "outputs": [],
   "source": [
    "#(v)\t    WAP to search for 13 in L.\n",
    "\n",
    "L=[11,12,13,14]\n",
    "if 13 in L:\n",
    "    print(\"13 is in the list\")\n",
    "else:\n",
    "    print(\"13 is not in the list\")\n"
   ]
  },
  {
   "cell_type": "code",
   "execution_count": 26,
   "metadata": {},
   "outputs": [],
   "source": [
    "#(vi)\tWAP to count the number of elements present in L.\n",
    "c=0\n",
    "for i in L:\n",
    "    c +=1\n",
    "\n",
    "print(c)\n",
    "\n",
    "\n"
   ]
  },
  {
   "cell_type": "code",
   "execution_count": 27,
   "metadata": {},
   "outputs": [],
   "source": [
    "#(vii)\tWAP to sum all the elements in L.\n",
    "s=0\n",
    "L=[11,12,13,14]\n",
    "\n",
    "for i in L:\n",
    "    s=s+i\n",
    "\n",
    "print(\"sum is:\",s)\n",
    "\n"
   ]
  },
  {
   "cell_type": "code",
   "execution_count": 28,
   "metadata": {},
   "outputs": [],
   "source": [
    "#(viii)\tWAP to sum all ODD numbers in L.\n",
    "def summation(nums):\n",
    "   return sum([i for i in nums if i % 2 == 1])\n",
    "L = [11,12,13,14]\n",
    "print(summation(L))\n",
    "\n"
   ]
  },
  {
   "cell_type": "code",
   "execution_count": 29,
   "metadata": {},
   "outputs": [],
   "source": [
    "#(ix)\tWAP to sum all EVEN numbers in L.\n",
    "def add(nums):\n",
    "   return sum([i for i in nums if i % 2 == 0])\n",
    "L = [11,12,13,14]\n",
    "print(add(L))\n",
    "\n"
   ]
  },
  {
   "cell_type": "code",
   "execution_count": 30,
   "metadata": {},
   "outputs": [],
   "source": [
    "#(x)\t    WAP to sum all PRIME numbers in L.\n",
    "\n",
    "\n",
    "sum = 0\n",
    "\n",
    "for number in range(2, L + 1):\n",
    "\n",
    "    i = 2\n",
    "    for i in range(2, number):\n",
    "        if (int(number % i) == 0):\n",
    "            i = number\n",
    "            break;\n",
    "\n",
    "    if i is not number:\n",
    "        sum = sum + number\n",
    "print(\"\\nThe sum of prime numbers in python from 1 to \", L \" is :\", sum)\n",
    "\n"
   ]
  },
  {
   "cell_type": "code",
   "execution_count": 31,
   "metadata": {},
   "outputs": [],
   "source": [
    "#(xi)\tWAP to clear all the elements in L.\n",
    "\n",
    "L.clear()\n",
    "print(L)\n",
    "\n"
   ]
  },
  {
   "cell_type": "code",
   "execution_count": 32,
   "metadata": {},
   "outputs": [],
   "source": [
    "#(xii)\tWAP to delete L.\n",
    "L=[11,12,13,14]\n",
    "del L\n",
    "print(L)\n"
   ]
  },
  {
   "cell_type": "markdown",
   "metadata": {},
   "source": [
    "Problem Statement: 8\n",
    "\n",
    "D is a dictionary defined as D= {1:5.6, 2:7.8, 3:6.6, 4:8.7, 5:7.7}.\n",
    "(i)\tWAP to add new entry in D; key=8 and value is 8.8\n",
    "(ii)\tWAP to remove key=2.\n",
    "(iii)\tWAP to check weather 6 key is present in D.\n",
    "(iv)\tWAP to count the number of elements present in D.\n",
    "(v)\tWAP to add all the values present D.\n",
    "(vi)\tWAP to update the value of 3 to 7.1.\n",
    "(vii)\tWAP to clear the dictionary.\n"
   ]
  },
  {
   "cell_type": "code",
   "execution_count": 33,
   "metadata": {},
   "outputs": [],
   "source": [
    "#(i)\tWAP to add new entry in D; key=8 and value is 8.8\n",
    "D={1:5.6,2:7.8,3:6.6,4:8.7,5:7.7}\n",
    "D[8]=8.8\n",
    "print(D)\n",
    "\n"
   ]
  },
  {
   "cell_type": "code",
   "execution_count": 34,
   "metadata": {},
   "outputs": [],
   "source": [
    "#(ii)\tWAP to remove key=2.\n",
    "D.pop(2)\n",
    "print(D)\n",
    "\n"
   ]
  },
  {
   "cell_type": "code",
   "execution_count": 35,
   "metadata": {},
   "outputs": [],
   "source": [
    "#(iii)\tWAP to check weather 6 key is present in D.\n",
    "if 6 in D:\n",
    "    print(\"Key 6 found in the dictionary\")\n",
    "else:\n",
    "    print(\"Key not found\")\n",
    "\n"
   ]
  },
  {
   "cell_type": "code",
   "execution_count": 36,
   "metadata": {},
   "outputs": [],
   "source": [
    "#(iv)\tWAP to count the number of elements present in D.\n",
    "x=len(D)\n",
    "print(x)\n",
    "\n"
   ]
  },
  {
   "cell_type": "code",
   "execution_count": 37,
   "metadata": {},
   "outputs": [],
   "source": [
    "#(v)\tWAP to add all the values present D.\n",
    "a=0\n",
    "for i in D.values():\n",
    "   a+=i\n",
    "\n",
    "print(a)\n",
    "\n"
   ]
  },
  {
   "cell_type": "code",
   "execution_count": 38,
   "metadata": {},
   "outputs": [],
   "source": [
    "#(vi)\tWAP to update the value of 3 to 7.1.\n",
    "y={3:7.1}\n",
    "D.update(y)\n",
    "print(D)\n",
    "\n"
   ]
  },
  {
   "cell_type": "code",
   "execution_count": 41,
   "metadata": {},
   "outputs": [],
   "source": [
    "# (vii)\tWAP to clear the dictionary.\n",
    "\n",
    "D.clear()\n",
    "print(D)"
   ]
  },
  {
   "cell_type": "markdown",
   "metadata": {},
   "source": [
    "Problem Statement: 9\n",
    "\n",
    "S1 is a set defined as S1= [10, 20, 30, 40, 50, 60].\n",
    "    S2 is a set defined as S2= [40, 50, 60, 70, 80, 90].\n",
    "(i)\t    WAP to add 55 and 66 in Set S1.\n",
    "(ii)\tWAP to remove 10 and 30 from Set S1.\n",
    "(iii)\tWAP to check whether 40 is present in S1.\n",
    "(iv)\tWAP to find the union between S1 and S2.\n",
    "(v)\t    WAP to find the intersection between S1 and S2.\n",
    "(vi)\tWAP to find the S1 - S2.\n"
   ]
  },
  {
   "cell_type": "code",
   "execution_count": 42,
   "metadata": {},
   "outputs": [],
   "source": [
    "#    S1 is a set defined as S1= [10, 20, 30, 40, 50, 60].\n",
    "#    S2 is a set defined as S2= [40, 50, 60, 70, 80, 90].\n",
    "S1= {10, 20, 30, 40, 50, 60}\n",
    "S2= {40, 50, 60, 70, 80, 90}\n",
    "\n"
   ]
  },
  {
   "cell_type": "code",
   "execution_count": 43,
   "metadata": {},
   "outputs": [],
   "source": [
    "# (i)\t    WAP to add 55 and 66 in Set S1.\n",
    "S1.add(55)\n",
    "S1.add(66)\n",
    "print(S1)\n",
    "\n"
   ]
  },
  {
   "cell_type": "code",
   "execution_count": 44,
   "metadata": {},
   "outputs": [],
   "source": [
    "# (ii)\tWAP to remove 10 and 30 from Set S1.\n",
    "S1= {10, 20, 30, 40, 50, 60}\n",
    "S1.remove(10)\n",
    "S1.remove(30)\n",
    "print(S1)\n",
    "\n"
   ]
  },
  {
   "cell_type": "code",
   "execution_count": 45,
   "metadata": {},
   "outputs": [],
   "source": [
    "# (iii)\tWAP to check whether 40 is present in S1.\n",
    "if 40 in S1:\n",
    "    print(\"40 found in the set\")\n",
    "else:\n",
    "    print(\"40 is not present in the list\")\n",
    "\n"
   ]
  },
  {
   "cell_type": "code",
   "execution_count": 46,
   "metadata": {},
   "outputs": [],
   "source": [
    "# (iv)\tWAP to find the union between S1 and S2.\n",
    "print(\"union between S1 and S2 is: \" ,S1.union(S2))\n",
    "\n"
   ]
  },
  {
   "cell_type": "code",
   "execution_count": 47,
   "metadata": {},
   "outputs": [],
   "source": [
    "# (v)\t    WAP to find the intersection between S1 and S2.\n",
    "print(\"intersection between S1 and S2 is: \" ,S1.intersection(S2))\n",
    "\n"
   ]
  },
  {
   "cell_type": "code",
   "execution_count": 48,
   "metadata": {},
   "outputs": [],
   "source": [
    "# (vi)\tWAP to find the S1 - S2.\n",
    "S = S1 - S1\n",
    "print(S)\n"
   ]
  },
  {
   "cell_type": "markdown",
   "metadata": {},
   "source": [
    "Problem Statement: 10\n",
    "\n",
    "Write the following program.\n",
    "(i)\t    WAP to print 100 random strings whose length between 6 and 8.\n",
    "(ii)\tWAP to print all prime numbers between 600 and 800.\n",
    "(iii)\tWAP to print all numbers between 100 and 1000 that are divisible by 7 and 9.\n",
    "\n"
   ]
  },
  {
   "cell_type": "code",
   "execution_count": 49,
   "metadata": {},
   "outputs": [],
   "source": [
    "# (i)\t    WAP to print 100 random strings whose length between 6 and 8.\n",
    "\n",
    "import string as s\n",
    "import random as r\n",
    "print (s.ascii_letters)\n",
    "\n",
    "\n",
    "i=0\n",
    "while i<100:\n",
    "    rstr=r.sample(s.ascii_letters, 7)\n",
    "    rstr=\"\".join(rstr)\n",
    "    print (rstr)\n",
    "    i+=1\n",
    "\n"
   ]
  },
  {
   "cell_type": "code",
   "execution_count": 50,
   "metadata": {},
   "outputs": [],
   "source": [
    "# (ii)\tWAP to print all prime numbers between 600 and 800.\n",
    "\n",
    "lower = 600\n",
    "upper = 800\n",
    "\n",
    "print(\"Prime numbers between\", lower, \"and\", upper, \"are:\")\n",
    "\n",
    "for num in range(lower, upper + 1):\n",
    "   # all prime numbers are greater than 1\n",
    "   if num > 1:\n",
    "       for i in range(2, num):\n",
    "           if (num % i) == 0:\n",
    "               break\n",
    "       else:\n",
    "           print(num)"
   ]
  },
  {
   "cell_type": "code",
   "execution_count": 51,
   "metadata": {},
   "outputs": [],
   "source": [
    "# (iii)\tWAP to print all numbers between 100 and 1000 that are divisible by 7 and 9.\n",
    "a=[]\n",
    "\n",
    "for i in range(100,1000):\n",
    "    if (i%7==0) and (i%9==0):\n",
    "        a.append(i)\n",
    "\n",
    "print(a)\n"
   ]
  },
  {
   "cell_type": "markdown",
   "metadata": {},
   "source": [
    "Problem Statement: 11\n",
    "\n",
    "WAP to create two lists of 10 random numbers between 10 and 30; Find \n",
    "(i)\t    Common numbers in the two lists\n",
    "(ii)\tUnique numbers in both the list\n",
    "(iii)\tMinimum in both the list\n",
    "(iv)\tMaximum in both the list\n",
    "(v)\t    Sum of both the lists\n"
   ]
  },
  {
   "cell_type": "code",
   "execution_count": 52,
   "metadata": {},
   "outputs": [],
   "source": [
    "\n",
    "import random as r\n",
    "i=k=0\n",
    "l=j=[]\n",
    "while i<5:\n",
    "    l.append(r.randint(10,30))\n",
    "    i+=1\n",
    "while k<5:\n",
    "    j.append(r.randint(10,30))\n",
    "    k+=1\n",
    "\n",
    "# (i)\t    Common numbers in the two lists\n",
    "for i in x:  \n",
    "    for h in y:\n",
    "        if i==h:\n",
    "            print(i)"
   ]
  },
  {
   "cell_type": "code",
   "execution_count": 53,
   "metadata": {},
   "outputs": [],
   "source": [
    "# (ii)\tUnique numbers in both the list\n",
    "\n",
    "for i in x:\n",
    "    for h in y:\n",
    "        if i!=h:\n",
    "            print(i)\n",
    "\n",
    "\n"
   ]
  },
  {
   "cell_type": "code",
   "execution_count": 54,
   "metadata": {},
   "outputs": [],
   "source": [
    "# (iii)\tMinimum in both the list\n",
    "import random as r\n",
    "i=k=0\n",
    "l=j=[]\n",
    "while i<5:\n",
    "    l.append(r.randint(10,30))\n",
    "    i+=1\n",
    "while k<5:\n",
    "    j.append(r.randint(10,30))\n",
    "    k+=1\n",
    "\n",
    "# sorting the list\n",
    "l.sort()\n",
    "j.sort()\n",
    " \n",
    "# printing the first element\n",
    "print(\"Smallest element of first list is:\", l[0])\n",
    "print(\"Smallest element of second list is:\", j[0])\n",
    "\n",
    "\n"
   ]
  },
  {
   "cell_type": "code",
   "execution_count": 55,
   "metadata": {},
   "outputs": [],
   "source": [
    "# (iv)\tMaximum in both the list\n",
    "import random as r\n",
    "i=k=0\n",
    "l=j=[]\n",
    "while i<5:\n",
    "    l.append(r.randint(10,30))\n",
    "    i+=1\n",
    "while k<5:\n",
    "    j.append(r.randint(10,30))\n",
    "    k+=1\n",
    "print(l)\n",
    "print(j)\n",
    "\n",
    "\n",
    " \n",
    "# sorting the list\n",
    "l.sort()\n",
    "j.sort()\n",
    " \n",
    "# printing the first element\n",
    "print(\"Smallest element of first list is:\", l[-1])\n",
    "print(\"Smallest element of second list is:\", j[-1])\n",
    "\n",
    "\n"
   ]
  },
  {
   "cell_type": "code",
   "execution_count": 56,
   "metadata": {},
   "outputs": [],
   "source": [
    "# (v)\t    Sum of both the lists\n",
    "x=[20,23,23,12,13,28,13,28,17,15]\n",
    "y=[15,21,29,11,13,15,23,28,14,25]\n",
    "\n",
    "a=0\n",
    "for i in x:\n",
    "    a+=i\n",
    "\n",
    "for j in y:\n",
    "    a+=j\n",
    "\n",
    "print(a)\n"
   ]
  },
  {
   "cell_type": "markdown",
   "metadata": {},
   "source": [
    "Problem Statement: 12\n",
    "\n",
    "WAP to create a list of 100 random numbers between 100 and 900. Count and print the: \n",
    "(i)\tAll odd numbers\n",
    "(ii)\tAll even numbers\n",
    "(iii)\tAll prime numbers\n"
   ]
  },
  {
   "cell_type": "code",
   "execution_count": 57,
   "metadata": {},
   "outputs": [],
   "source": [
    "# WAP to create a list of 100 random numbers between 100 and 900. \n",
    "import random as r\n",
    "x=0\n",
    "l=[]\n",
    "while x<100:\n",
    "    l.append(r.randint(100,900))\n",
    "    x+=1\n",
    "print(l)\n"
   ]
  },
  {
   "cell_type": "code",
   "execution_count": 58,
   "metadata": {},
   "outputs": [],
   "source": [
    "# Count and print the (i)\tAll odd numbers\n",
    "import random as r\n",
    "x=0\n",
    "l=[]\n",
    "while x<100:\n",
    "    l.append(r.randint(100,900))\n",
    "    x+=1\n",
    "print(l)\n",
    "\n",
    "#counting odd numbers\n",
    "for j in l:\n",
    "    if j%2==1:\n",
    "        print(\"Odd numbers:\",j)\n",
    "\n"
   ]
  },
  {
   "cell_type": "code",
   "execution_count": 59,
   "metadata": {},
   "outputs": [],
   "source": [
    "# Count and print the (ii)\tAll even numbers\n",
    "x=0\n",
    "l=[]\n",
    "while x<100:\n",
    "    l.append(r.randint(100,900))\n",
    "    i+=1\n",
    "print(l)\n",
    "\n",
    "#counting even numbers\n",
    "for j in l:\n",
    "    if j%2==0:\n",
    "        print(j)\n",
    "\n"
   ]
  },
  {
   "cell_type": "code",
   "execution_count": 60,
   "metadata": {},
   "outputs": [],
   "source": [
    "# Count and print the (iii)\tAll prime numbers\n",
    "import random as r\n",
    "def countlist(numbers):\n",
    "    primen = []\n",
    "\n",
    "    for num in numbers:\n",
    "        if num == 2:\n",
    "            primen.append(num)\n",
    "        else:\n",
    "            prime = True\n",
    "            for x in range(2, num):\n",
    "                if num % x == 0:\n",
    "                    prime = False\n",
    "                    break\n",
    "\n",
    "            if prime:\n",
    "                print (num)\n",
    "                primen.append(num)\n",
    "\n",
    "    return len(primen)\n",
    "\n",
    "x=0\n",
    "l=[]\n",
    "while x<100:\n",
    "    l.append(r.randint(100,900))\n",
    "    i+=1\n",
    "print(l)\n",
    "print (countlist(l))\n"
   ]
  },
  {
   "cell_type": "markdown",
   "metadata": {},
   "source": [
    "Problem Statement: 13\n",
    "\n",
    "D is a dictionary defined as D={1:\"One\",2:\"Two\",3:\"Three\",4:\"Four\", 5:\"Five\"}. \n",
    "WAP to read all the keys and values from dictionary and write to the file in the given below format.\n",
    "\t\n",
    "    Key1, Value1\n",
    "\tKey2, Value2\n",
    "\tKey3, Value3\n"
   ]
  },
  {
   "cell_type": "code",
   "execution_count": null,
   "metadata": {},
   "outputs": [],
   "source": [
    "count=int(input(\"Enter number of values: \"))\n",
    "fout=open(\"dictionary.txt\",'w')\n",
    "\n",
    "for i in range(count):\n",
    "    print(\"Enter details of value\",(i+1),\"below:\")\n",
    "    key=int(input(\"Enter key: \"))\n",
    "    cnt=input(\"Enter value: \")\n",
    "    rec=str(key)+','+cnt+'\\n'\n",
    "    fout.write(rec)\n",
    "fout.close()"
   ]
  },
  {
   "cell_type": "markdown",
   "metadata": {},
   "source": [
    "Problem Statement: 14\n",
    "\n",
    "L is a list defined as L={\"One\",\"Two\",\"Three\",\"Four\",\"Five\"}.\n",
    "WAP to count the length of reach element from a list and write to the file in the given below format:\n",
    "\tOne, 3\n",
    "\tTwo, 3\n",
    "\tFour, 4\n"
   ]
  },
  {
   "cell_type": "code",
   "execution_count": null,
   "metadata": {},
   "outputs": [],
   "source": [
    "L=[\"One\",\"Two\",\"Three\",\"Four\",\"Five\"]\n",
    "for i in L:\n",
    "    print(i,',',len(i))"
   ]
  },
  {
   "cell_type": "markdown",
   "metadata": {},
   "source": [
    "Problem Statement: 15\n",
    "\n",
    "Write to the file 100 random strings whose length between 10 and 15."
   ]
  },
  {
   "cell_type": "code",
   "execution_count": null,
   "metadata": {},
   "outputs": [],
   "source": [
    "import string\n",
    "import random\n",
    "N = 12\n",
    "\n",
    "fp=open('result.txt','w')\t\n",
    "i=0\n",
    "while i<100:\n",
    "    fp.write(''.join(random.choices(string.ascii_letters, k=N)) + \"\\n\")\n",
    "    i+=1\n",
    "fp.close()\n",
    "\n",
    "print (\"Writing done !! \\nOpen result.txt to view the content\")"
   ]
  },
  {
   "cell_type": "markdown",
   "metadata": {},
   "source": [
    "Problem Statement: 16\n",
    "\n",
    "Write to the file all prime numbers between 600 and 800."
   ]
  },
  {
   "cell_type": "code",
   "execution_count": null,
   "metadata": {},
   "outputs": [],
   "source": [
    "with open(\"dictionary.txt\",\"w\") as fo:\n",
    "    for n in range (600,800):\n",
    "        if all(n%i!=0 for i in range (2,n)):\n",
    "            x=[]\n",
    "            x.append(n)             \n",
    "            print ( file = fo)\n",
    "            print (\"\", file = fo)\n",
    "            print ((x), file = fo)"
   ]
  },
  {
   "cell_type": "markdown",
   "metadata": {},
   "source": [
    "Problem Statement: 17\n",
    "\n",
    "WAP to calculate the time taken by a program."
   ]
  },
  {
   "cell_type": "code",
   "execution_count": null,
   "metadata": {},
   "outputs": [],
   "source": [
    "import time\n",
    "begin = time.time()\n",
    "  \n",
    "for i in range(5):\n",
    "    print(\"Harsh Kumar\")\n",
    "\n",
    "  time.sleep(1)\n",
    "end = time.time()\n",
    "  \n",
    "# total time taken by the program\n",
    "print(f\"Total runtime of the program is {end - begin}\")"
   ]
  },
  {
   "cell_type": "markdown",
   "metadata": {},
   "source": [
    "Problem Statement: 18\n",
    "\n",
    "WAP to sort following number of elements in a list, calculate time taken and plot the graph.   \n",
    "\n",
    "Number of elements in list\t    Time Taken\n",
    "            50k                     T1\n",
    "            100k\t                T2\n",
    "            150k\t                T3\n",
    "            200k\t                T4\n",
    "            250k\t                T5"
   ]
  },
  {
   "cell_type": "code",
   "execution_count": null,
   "metadata": {},
   "outputs": [],
   "source": [
    "import time\n",
    "import numpy as np\n",
    "import matplotlib.pyplot as plt\n",
    "def maxheap(a,i):\n",
    "    l=2*i\n",
    "    r=2*i +1\n",
    "    n= len(a)-1\n",
    "    if(l<=n and a[l]>a[i]):\n",
    "        large=l\n",
    "    else:\n",
    "        large=i\n",
    "    if(r<=n and a[r]>a[large]):\n",
    "        large=r\n",
    "    if(large!=i):\n",
    "        temp=a[i]\n",
    "        a[i]=a[large]\n",
    "        a[large]=a[i]\n",
    "        maxheap(a,large)\n",
    "        \n",
    "def build_heap(a): \n",
    "    leaf=int(len(a)/2)\n",
    "    for i in range(leaf -1, -1, -1): \n",
    "        maxheap(a, i) \n",
    "def heapsort(a):\n",
    "    build_heap(a)\n",
    "    n= len(a)-1\n",
    "    for i in range(int(n),0,-1):\n",
    "        a[i],a[0]=a[i],a[0] \n",
    "        n=n-1\n",
    "        maxheap(a,0)\n",
    "dict1={}    \n",
    "for i in range(1,10):\n",
    "    a=np.random.randint(0,i*5000,i*1000)\n",
    "    st=time.process_time()\n",
    "    heapsort(a)\n",
    "    end=time.process_time()\n",
    "    dict1[len(a)]=(end-st)\n",
    "    print(\"Time taken by \" + str(len(a)) + \" numbers is \" + str(dict1[len(a)]))\n",
    "print(\"Following graph depicts the Time Complexity plot for heap sort:\")\n",
    "plt.xlabel(\"Elements in a heap\")\n",
    "plt.ylabel(\"Time\")\n",
    "plt.title(\"Heap Sort Time Complexity\")\n",
    "plt.plot(*zip(*sorted(dict1.items())))\n",
    "plt.show()"
   ]
  },
  {
   "cell_type": "markdown",
   "metadata": {},
   "source": [
    "Problem Statement: 19\n",
    "\n",
    "WAP to create a dictionary of student marks in five subjects and you have to find the student \n",
    "         having maximum and minimum average marks.\n"
   ]
  },
  {
   "cell_type": "code",
   "execution_count": null,
   "metadata": {},
   "outputs": [],
   "source": [
    "\n",
    "students = dict()\n",
    "n = int(input(\"Enter number of students :\"))\n",
    "for i in range(n):\n",
    "        sname = input(\"Enter names of student :\")\n",
    "        marks= []\n",
    "        for j in range(5):\n",
    "           mark = float(input(\"Enter marks :\"))\n",
    "           marks.append(mark)\n",
    "        students[sname] = marks\n",
    "print(\"Dictionary of student created :\")\n",
    "print(students)\n"
   ]
  }
 ],
 "metadata": {
  "kernelspec": {
   "display_name": "Python 3.9.6 64-bit",
   "language": "python",
   "name": "python3"
  },
  "language_info": {
   "codemirror_mode": {
    "name": "ipython",
    "version": 3
   },
   "file_extension": ".py",
   "mimetype": "text/x-python",
   "name": "python",
   "nbconvert_exporter": "python",
   "pygments_lexer": "ipython3",
   "version": "3.9.6"
  },
  "vscode": {
   "interpreter": {
    "hash": "f6246b25e200e4c5124e3e61789ac81350562f0761bbcf92ad9e48654207659c"
   }
  }
 },
 "nbformat": 4,
 "nbformat_minor": 2
}
